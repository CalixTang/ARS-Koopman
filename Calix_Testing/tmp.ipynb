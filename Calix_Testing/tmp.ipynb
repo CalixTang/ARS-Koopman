{
 "cells": [
  {
   "cell_type": "code",
   "execution_count": 1,
   "metadata": {},
   "outputs": [],
   "source": [
    "import numpy as np\n",
    "import pickle\n",
    "import scipy.linalg as linalg\n",
    "import itertools\n",
    "import math\n",
    "from warnings import warn\n",
    "from matplotlib import pyplot as plt"
   ]
  },
  {
   "cell_type": "code",
   "execution_count": 9,
   "metadata": {},
   "outputs": [
    {
     "name": "stdout",
     "output_type": "stream",
     "text": [
      "[ 2  3  4  6  8 12]\n"
     ]
    }
   ],
   "source": [
    "import numpy as np\n",
    "\n",
    "# Example vector A\n",
    "A = np.array([1, 2, 3, 4])\n",
    "\n",
    "# Calculate the length of the resulting vector B\n",
    "n = A.shape[0]\n",
    "length_B = n * (n - 1) // 2\n",
    "B = np.zeros(length_B, dtype=np.float64)\n",
    "\n",
    "# Reshape A for broadcasting\n",
    "A_ = A[:, np.newaxis]\n",
    "B = (A_ @ A_.T)[np.triu_indices(A.shape[0], k = 1)]\n",
    "\n",
    "print(B)"
   ]
  },
  {
   "cell_type": "code",
   "execution_count": 4,
   "metadata": {},
   "outputs": [
    {
     "name": "stdout",
     "output_type": "stream",
     "text": [
      "[[  0.971   2.731   4.343   3.672   0.659   3.797   0.225  -0.375   3.926\n",
      "   -2.816   0.973   4.743  -0.379   2.016   1.199   2.557   1.986   3.154\n",
      "    0.124   4.076   0.059  -1.188  -0.727  -0.11 ]\n",
      " [ -0.54   -2.6    -6.247   0.898  -0.159  -7.882   4.54   -0.823   4.388\n",
      "    0.562   4.191   2.141   2.82    3.343  -8.078  -0.728   2.78   -1.363\n",
      "    1.652  -0.206   5.206 -10.682   2.561  -2.317]\n",
      " [  2.6     6.207   0.285   3.44    0.656  -2.598  -3.102  -3.137   0.657\n",
      "   -5.651   0.987   1.191  -3.217  -2.489   1.162   2.643  -0.388   0.004\n",
      "   -0.703  -3.407   2.464   1.288   3.093   4.809]\n",
      " [  3.104   0.302  -9.262  -5.08   -4.003 -11.155   4.374  -8.703   6.101\n",
      "   -0.098   1.644   8.331   3.985   4.937   2.982   4.355   0.385  -3.242\n",
      "   -4.369   2.073   0.999   0.888  -7.234   1.652]\n",
      " [  0.672  -5.442  -2.612  -1.815   0.021  -1.504   7.935   5.468  -6.24\n",
      "   -5.321 -12.081  -2.253  -0.53    3.062  -8.455  -0.326  -5.895   1.175\n",
      "    4.041   2.518   0.638   0.907  -3.449  -2.906]\n",
      " [  4.401  -1.245   0.144  -4.074   4.415  -1.242   1.574   1.255  -0.558\n",
      "   -3.312  -5.106  -0.741   0.643   1.474  -0.089   2.801   3.259  -5.85\n",
      "    1.103  -0.716  -7.863   4.589  -1.865   5.285]\n",
      " [ -3.638  -6.902  -1.719  -3.067  -3.033   5.56    3.064  -3.718  -5.324\n",
      "   -2.329  -4.395   3.03   -1.862   1.858  -5.019  -0.511  -6.111  -4.058\n",
      "   -1.328   2.375   1.96    8.13   -4.823  -2.731]\n",
      " [ -9.274  -0.457   1.665  -3.548  -3.038   1.01   -3.238  -1.954  -0.563\n",
      "    5.997  -1.346  -0.058   1.994  -6.059   4.826   3.793   1.367  -0.88\n",
      "   -6.578   4.295  -1.746   0.619   0.58   -0.953]\n",
      " [ -0.916  -0.268   5.806   1.447  -1.209   4.551  -0.262   2.105  -2.998\n",
      "   -4.838  -1.496  -4.816  -2.997   5.348  -0.164   1.013  -2.096  -1.113\n",
      "   -2.39   -2.314  -3.234  -3.003   7.103  -8.601]\n",
      " [ -1.27    3.506   6.193  -3.019   5.672   2.431   0.287   1.097   5.426\n",
      "   -4.022   2.203  -0.622   1.169  -2.743  -1.245  -2.41   -4.327   3.05\n",
      "   -5.517   3.996  -7.327   8.864   5.35    1.579]\n",
      " [  1.25   -2.173   7.145  -1.211   3.519  -0.499  -0.254  -6.135  -5.136\n",
      "    5.593  -0.928   2.269   0.381  -4.053  -1.835   4.063   0.096  -2.283\n",
      "    1.055   1.015  -2.799  -5.531   7.788   2.611]\n",
      " [  9.752   2.782  -6.322  -1.136   7.157   1.797   3.98    0.854   0.016\n",
      "    0.605  -1.646  -3.485   1.685  -2.492  -0.324  -3.425  11.666   0.045\n",
      "   -4.509  -5.863   1.807  -1.473  -3.619  -1.475]\n",
      " [  3.287   0.324  -2.157  -2.736   3.679   1.378   6.91   -0.638  -0.455\n",
      "    6.711  -1.228   2.704  -0.476   6.641   1.405   6.217   3.866  -0.699\n",
      "    2.512   2.447  -2.848  -5.037  -5.407 -11.391]\n",
      " [ -2.378  -1.921  -2.736  -5.513  -8.382   5.303   8.264   9.823   1.439\n",
      "    2.829  -2.217  -0.85   -4.328  -4.66   -2.885  -2.733  -3.095  -1.315\n",
      "   -3.161   9.389  -1.36   -2.131  -3.392  -2.622]\n",
      " [ -2.457   6.647   2.921   6.168  -5.391   3.195   1.212   7.899   4.162\n",
      "    3.58   -0.876   4.874   5.211   7.568  -1.371   4.995  -0.979  -3.707\n",
      "   -3.63   -5.849  -2.678   3.242   5.06    1.925]\n",
      " [ -2.499  -1.225   4.006  -2.52   -6.07    2.981   0.728  -5.143  -1.007\n",
      "    2.624   7.188  -2.624   0.428   4.514  -1.941  -0.48    0.464  -6.258\n",
      "   -2.231   5.272   5.244  -8.607   1.979   2.973]\n",
      " [  3.869   0.431  -2.494  -5.967   2.783   7.497  -8.863   2.264   3.327\n",
      "   -0.606  -2.557  -6.054   6.471  -2.08    1.392   6.336  -1.959   6.623\n",
      "    3.174   1.268   1.321   3.245   2.92   -3.93 ]\n",
      " [ -5.934  -0.637   0.844   2.265   1.715  -5.703  -5.324   9.823   0.264\n",
      "    3.129   3.272   0.004   1.535   2.432   5.463   3.457   2.071  -7.114\n",
      "    4.311  -0.286  -7.335  -6.417  -6.842   2.042]\n",
      " [  2.647  -5.531   3.473  -2.316   1.814  -0.022  -2.088   1.122   0.205\n",
      "    4.279  -0.033   1.84   -0.354   8.993  -6.532  -6.352   0.944  -4.755\n",
      "    0.795   3.841   5.806   1.413   1.597   6.253]\n",
      " [  0.123  -8.009   8.984   3.549   1.207   3.734   3.934  -3.208  10.08\n",
      "    2.084  -0.626   2.81   -0.914  -0.819  -3.246  -7.384  -4.509  -5.599\n",
      "    3.211   6.469   1.784  -6.978  -4.051   5.739]\n",
      " [ 11.548  -6.703  -6.386  -2.406   3.876   2.148   3.525  -1.506   0.798\n",
      "    1.663  -2.933   1.607   4.568   5.425   3.193  -3.124   2.501   6.173\n",
      "    1.06    6.927   4.383   4.587   2.081  -4.446]\n",
      " [  4.433   2.434  -2.41   -2.408   0.62    4.559  -5.593  -0.804   0.24\n",
      "   -5.311   4.298  -1.882  -2.675   4.259   0.571  -3.832  -3.945  -2.297\n",
      "    3.77   -1.826  -5.12   -4.869   7.878  -5.058]\n",
      " [ -2.116   4.411   2.311  -1.739   3.271   1.546  -0.427   6.376   2.053\n",
      "   -5.729   3.408   0.392   4.55    0.644   3.042   0.191  -0.624  -0.331\n",
      "   -8.217   6.644  -5.288  -1.107  -0.887   2.383]\n",
      " [  5.594  -3.22    1.991   3.736  -1.097  -2.792   0.973   2.142  -3.064\n",
      "    4.88   -1.393   6.465   6.259   0.409   6.621  -2.222  -1.202  -4.566\n",
      "   -4.424   3.201   3.726  -3.209   4.965  -0.463]]\n"
     ]
    }
   ],
   "source": [
    "np.set_printoptions(suppress=True,precision=3)\n",
    "A = np.load('../data/cheetah-arsk-min-5/best_koopman_policy_weights.npy', allow_pickle = True)\n",
    "print(A.round(3))"
   ]
  },
  {
   "cell_type": "code",
   "execution_count": 2,
   "metadata": {},
   "outputs": [
    {
     "name": "stdout",
     "output_type": "stream",
     "text": [
      "(187, 759, 100)\n",
      "(191, 759, 100)\n",
      "(172, 759, 100)\n",
      "(190, 759, 100)\n"
     ]
    }
   ],
   "source": [
    "#load trajectories - each of shape (#successful episodes, lifted Z space, time rollout)\n",
    "cube_trajectories = np.load(open('./expert_trajectories/cube.npy', 'rb'))\n",
    "ball_trajectories = np.load(open('./expert_trajectories/ball.npy', 'rb'))\n",
    "cylinder_trajectories = np.load(open('./expert_trajectories/cylinder.npy', 'rb'))\n",
    "foam_brick_trajectories = np.load(open('./expert_trajectories/foam_brick.npy', 'rb'))\n",
    "\n",
    "print(cube_trajectories.shape)\n",
    "print(ball_trajectories.shape)\n",
    "print(cylinder_trajectories.shape)\n",
    "print(foam_brick_trajectories.shape)"
   ]
  },
  {
   "cell_type": "code",
   "execution_count": 6,
   "metadata": {},
   "outputs": [],
   "source": [
    "# https://humaticlabs.com/blog/mrdmd-python/\n",
    "def dmd(X, Y, truncate=None):\n",
    "    if truncate == 0:\n",
    "        # return empty vectors\n",
    "        mu = np.array([], dtype='complex')\n",
    "        Phi = np.zeros([X.shape[0], 0], dtype='complex')\n",
    "    else:\n",
    "        U2,Sig2,Vh2 = linalg.svd(X) # SVD of input matrix\n",
    "        r = len(Sig2) if truncate is None else truncate # rank truncation\n",
    "        U = U2[:,:r]\n",
    "        Sig = np.diag(Sig2)[:r,:r]\n",
    "        V = Vh2.conj().T[:,:r]\n",
    "        Atil = np.dot(np.dot(np.dot(U.conj().T, Y), V), linalg.inv(Sig)) # build A tilde\n",
    "        mu,W = linalg.eig(Atil)\n",
    "        Phi = np.dot(np.dot(np.dot(Y, V), linalg.inv(Sig)), W) # build DMD modes\n",
    "    return mu, Phi\n",
    "\n",
    "def check_dmd_result(X, Y, mu, Phi, show_warning=True):\n",
    "    b = np.allclose(Y, np.dot(np.dot(np.dot(Phi, np.diag(mu)), linalg.pinv(Phi)), X))\n",
    "    if not b and show_warning:\n",
    "        warn('dmd result does not satisfy Y=AX')"
   ]
  },
  {
   "cell_type": "code",
   "execution_count": 4,
   "metadata": {},
   "outputs": [],
   "source": [
    "# https://humaticlabs.com/blog/mrdmd-python/\n",
    "def svht(X, sv=None):\n",
    "    # svht for sigma unknown\n",
    "    m,n = sorted(X.shape) # ensures m <= n\n",
    "    beta = m / n # ratio between 0 and 1\n",
    "    if sv is None:\n",
    "        sv = linalg.svdvals(X)\n",
    "    sv = np.squeeze(sv)\n",
    "    omega_approx = 0.56 * beta**3 - 0.95 * beta**2 + 1.82 * beta + 1.43\n",
    "    return np.median(sv) * omega_approx"
   ]
  },
  {
   "cell_type": "code",
   "execution_count": 5,
   "metadata": {},
   "outputs": [],
   "source": [
    "def mrdmd(D, level=0, bin_num=0, offset=0, max_levels=7, max_cycles=2, do_svht=True):\n",
    "    \"\"\"Compute the multi-resolution DMD on the dataset `D`, returning a list of nodes\n",
    "    in the hierarchy. Each node represents a particular \"time bin\" (window in time) at\n",
    "    a particular \"level\" of the recursion (time scale). The node is an object consisting\n",
    "    of the various data structures generated by the DMD at its corresponding level and\n",
    "    time bin. The `level`, `bin_num`, and `offset` parameters are for record keeping \n",
    "    during the recursion and should not be modified unless you know what you are doing.\n",
    "    The `max_levels` parameter controls the maximum number of levels. The `max_cycles`\n",
    "    parameter controls the maximum number of mode oscillations in any given time scale \n",
    "    that qualify as \"slow\". The `do_svht` parameter indicates whether or not to perform\n",
    "    optimal singular value hard thresholding.\"\"\"\n",
    "\n",
    "    # 4 times nyquist limit to capture cycles\n",
    "    nyq = 8 * max_cycles\n",
    "\n",
    "    # time bin size\n",
    "    bin_size = D.shape[1]\n",
    "    if bin_size < nyq:\n",
    "        return []\n",
    "\n",
    "    # extract subsamples \n",
    "    step = math.floor(bin_size / nyq) # max step size to capture cycles\n",
    "    _D = D[:,::step]\n",
    "    X = _D[:,:-1]\n",
    "    Y = _D[:,1:]\n",
    "\n",
    "    # determine rank-reduction\n",
    "    if do_svht:\n",
    "        _sv = linalg.svdvals(_D)\n",
    "        tau = svht(_D, sv=_sv)\n",
    "        r = sum(_sv > tau)\n",
    "    else:\n",
    "        r = min(X.shape)\n",
    "\n",
    "    # compute dmd\n",
    "    mu,Phi = dmd(X, Y, r)\n",
    "\n",
    "    # frequency cutoff (oscillations per timestep)\n",
    "    rho = max_cycles / bin_size\n",
    "\n",
    "    # consolidate slow eigenvalues (as boolean mask)\n",
    "    slow = (np.abs(np.log(mu) / (2 * np.pi * step))) <= rho\n",
    "    n = sum(slow) # number of slow modes\n",
    "\n",
    "    # extract slow modes (perhaps empty)\n",
    "    mu = mu[slow]\n",
    "    Phi = Phi[:,slow]\n",
    "\n",
    "    if n > 0:\n",
    "\n",
    "        # vars for the objective function for D (before subsampling)\n",
    "        Vand = np.vander(np.power(mu, 1/step), bin_size, True)\n",
    "        P = np.multiply(np.dot(Phi.conj().T, Phi), np.conj(np.dot(Vand, Vand.conj().T)))\n",
    "        q = np.conj(np.diag(np.dot(np.dot(Vand, D.conj().T), Phi)))\n",
    "\n",
    "        # find optimal b solution\n",
    "        b_opt = linalg.solve(P, q).squeeze()\n",
    "\n",
    "        # time evolution\n",
    "        Psi = (Vand.T * b_opt).T\n",
    "\n",
    "    else:\n",
    "\n",
    "        # zero time evolution\n",
    "        b_opt = np.array([], dtype='complex')\n",
    "        Psi = np.zeros([0, bin_size], dtype='complex')\n",
    "\n",
    "    # dmd reconstruction\n",
    "    D_dmd = np.dot(Phi, Psi)   \n",
    "\n",
    "    # remove influence of slow modes\n",
    "    D = D - D_dmd\n",
    "\n",
    "    # record keeping\n",
    "    node = type('Node', (object,), {})()\n",
    "    node.level = level            # level of recursion\n",
    "    node.bin_num = bin_num        # time bin number\n",
    "    node.bin_size = bin_size      # time bin size\n",
    "    node.start = offset           # starting index\n",
    "    node.stop = offset + bin_size # stopping index\n",
    "    node.step = step              # step size\n",
    "    node.rho = rho                # frequency cutoff\n",
    "    node.r = r                    # rank-reduction\n",
    "    node.n = n                    # number of extracted modes\n",
    "    node.mu = mu                  # extracted eigenvalues\n",
    "    node.Phi = Phi                # extracted DMD modes\n",
    "    node.Psi = Psi                # extracted time evolution\n",
    "    node.b_opt = b_opt            # extracted optimal b vector\n",
    "    nodes = [node]\n",
    "\n",
    "    # split data into two and do recursion\n",
    "    if level < max_levels:\n",
    "        split = math.ceil(bin_size / 2) # where to split\n",
    "        nodes += mrdmd(\n",
    "            D[:,:split],\n",
    "            level=level+1,\n",
    "            bin_num=2*bin_num,\n",
    "            offset=offset,\n",
    "            max_levels=max_levels,\n",
    "            max_cycles=max_cycles,\n",
    "            do_svht=do_svht\n",
    "            )\n",
    "        nodes += mrdmd(\n",
    "            D[:,split:],\n",
    "            level=level+1,\n",
    "            bin_num=2*bin_num+1,\n",
    "            offset=offset+split,\n",
    "            max_levels=max_levels,\n",
    "            max_cycles=max_cycles,\n",
    "            do_svht=do_svht\n",
    "            )\n",
    "\n",
    "    return nodes"
   ]
  },
  {
   "cell_type": "code",
   "execution_count": 6,
   "metadata": {},
   "outputs": [],
   "source": [
    "def stitch(nodes, level):\n",
    "    \n",
    "    # get length of time dimension\n",
    "    start = min([nd.start for nd in nodes])\n",
    "    stop = max([nd.stop for nd in nodes])\n",
    "    t = stop - start\n",
    "\n",
    "    # extract relevant nodes\n",
    "    nodes = [n for n in nodes if n.level == level]\n",
    "    nodes = sorted(nodes, key=lambda n: n.bin_num)\n",
    "    \n",
    "    # stack DMD modes\n",
    "    Phi = np.hstack([n.Phi for n in nodes])\n",
    "    \n",
    "    # allocate zero matrix for time evolution\n",
    "    nmodes = sum([n.n for n in nodes])\n",
    "    Psi = np.zeros([nmodes, t], dtype='complex')\n",
    "    \n",
    "    # copy over time evolution for each time bin\n",
    "    i = 0\n",
    "    for n in nodes:\n",
    "        _nmodes = n.Psi.shape[0]\n",
    "        Psi[i:i+_nmodes,n.start:n.stop] = n.Psi\n",
    "        i += _nmodes\n",
    "    \n",
    "    return Phi,Psi"
   ]
  },
  {
   "cell_type": "code",
   "execution_count": 7,
   "metadata": {},
   "outputs": [
    {
     "name": "stdout",
     "output_type": "stream",
     "text": [
      "(759, 759)\n"
     ]
    }
   ],
   "source": [
    "K = np.load('../hand_dapg/dapg/controller_training/koopman_without_vel/relocate/koopmanMatrix.npy')\n",
    "print(K.shape)"
   ]
  },
  {
   "cell_type": "code",
   "execution_count": 7,
   "metadata": {},
   "outputs": [
    {
     "name": "stderr",
     "output_type": "stream",
     "text": [
      "/home/ctang306/miniconda3/envs/mjrl-env/lib/python3.7/site-packages/ipykernel_launcher.py:14: ComplexWarning: Casting complex values to real discards the imaginary part\n",
      "  \n",
      "/home/ctang306/miniconda3/envs/mjrl-env/lib/python3.7/site-packages/ipykernel_launcher.py:15: ComplexWarning: Casting complex values to real discards the imaginary part\n",
      "  from ipykernel import kernelapp as app\n",
      "/home/ctang306/miniconda3/envs/mjrl-env/lib/python3.7/site-packages/ipykernel_launcher.py:21: UserWarning: dmd result does not satisfy Y=AX\n"
     ]
    },
    {
     "name": "stdout",
     "output_type": "stream",
     "text": [
      "(191, 759, 759) (191, 99) (191, 759, 99)\n"
     ]
    }
   ],
   "source": [
    "# reconstructed_data = np.dot(*stitch(nodes, i))\n",
    "\n",
    "'''Generate new koopman matrices using DMD for each episode. Also store individual eigenvectors (modes) and eigenvalues'''\n",
    "\n",
    "A = np.zeros((ball_trajectories.shape[0], ball_trajectories.shape[1], ball_trajectories.shape[1]))\n",
    "Lambdas = np.zeros((ball_trajectories.shape[0], ball_trajectories.shape[2] - 1))\n",
    "Eigvecs = np.zeros((ball_trajectories.shape[0], ball_trajectories.shape[1], ball_trajectories.shape[2] - 1))\n",
    "\n",
    "for i in range(A.shape[0]):\n",
    "    D = ball_trajectories[i]\n",
    "    X, Y = D[:, :-1], D[:, 1:]\n",
    "\n",
    "    Lambda, W = dmd(X, Y)\n",
    "    Lambdas[i] = Lambda\n",
    "    Eigvecs[i] = W\n",
    "    check_dmd_result(X, Y, Lambda, W)\n",
    "\n",
    "    #A = W @ Lambda @ W^-1\n",
    "    #based on qualitative, this method approximates our actual K matrix better than truncating to real at the end? somehow...\n",
    "    A[i] = (W @ np.diag(Lambda) @ linalg.pinv(W)).real\n",
    "\n",
    "print(A.shape, Lambdas.shape, Eigvecs.shape)"
   ]
  },
  {
   "cell_type": "code",
   "execution_count": 5,
   "metadata": {},
   "outputs": [],
   "source": [
    "np.save('./k_mat_relocate/ball_K.npy', A)\n",
    "np.save('./k_mat_relocate/ball_eigvecs.npy', Eigvecs)\n",
    "np.save('./k_mat_relocate/ball_eigvals.npy', Lambdas)"
   ]
  },
  {
   "cell_type": "code",
   "execution_count": 9,
   "metadata": {},
   "outputs": [
    {
     "name": "stdout",
     "output_type": "stream",
     "text": [
      "[-0.90695664 -0.9061085  -0.9061085  -0.90831032 -0.90831032 -0.89960583\n",
      " -0.89960583 -0.87975936 -0.87975936 -0.68456738 -0.68456738 -0.85429498\n",
      " -0.85429498 -0.82783275 -0.82783275  1.00729653  0.98866253  0.98866253\n",
      "  0.97146065  0.97146065  0.9633386   0.9633386  -0.80997479 -0.80997479\n",
      "  0.95332996  0.95332996  0.94387492  0.94387492  0.90741701  0.90741701\n",
      "  0.87630292  0.87630292 -0.79114127 -0.79114127  0.86671186  0.86671186\n",
      "  0.81925671  0.81925671  0.79286089  0.79286089 -0.73385791 -0.73385791\n",
      "  0.75790807  0.75790807 -0.6825464  -0.6825464   0.71031003  0.71031003\n",
      " -0.63151181 -0.63151181  0.67055647  0.67055647 -0.57767954 -0.57767954\n",
      "  0.6350265   0.6350265  -0.52037978 -0.52037978 -0.03635633  0.57532405\n",
      "  0.57532405 -0.46046767 -0.46046767  0.52320594  0.52320594 -0.39795938\n",
      " -0.39795938 -0.33416838 -0.33416838  0.46361871  0.46361871 -0.27172124\n",
      " -0.27172124 -0.20876279 -0.20876279  0.4039742   0.4039742  -0.14509848\n",
      " -0.14509848 -0.0825645  -0.0825645   0.33954574  0.33954574  0.15257017\n",
      "  0.15257017  0.0844385   0.0844385  -0.01318731 -0.01318731  0.21106325\n",
      "  0.21106325  0.21521499  0.21521499  0.27983281  0.27983281  0.02323056\n",
      "  0.02323056 -0.62187423 -0.62187423]\n"
     ]
    }
   ],
   "source": [
    "eigvecs = np.load('./k_mat_relocate/ball_eigvecs.npy')\n",
    "# print(eigvecs)\n",
    "np.save('./k_mat_relocate/ball_eigvecs_first_episode.npy', eigvecs[0])\n",
    "\n",
    "eigvals = np.load('./k_mat_relocate/ball_eigvals.npy')\n",
    "print(eigvals[0])\n",
    "np.save('./k_mat_relocate/ball_eigvals_first_episode.npy', eigvals[0])\n",
    "\n",
    "A = np.load('./k_mat_relocate/ball_K.npy')\n",
    "# print(A)\n",
    "np.save('./k_mat_relocate/ball_K_first_episode.npy', A[0])"
   ]
  },
  {
   "cell_type": "code",
   "execution_count": 14,
   "metadata": {},
   "outputs": [
    {
     "name": "stdout",
     "output_type": "stream",
     "text": [
      "133347.42428924816\n",
      "160508.45346124517\n"
     ]
    }
   ],
   "source": [
    "A_0 = A[0]\n",
    "A_0_tilde = (eigvecs[0] @ np.diag(eigvals[0]) @ linalg.pinv(eigvecs[0]))\n",
    "print(np.sum(np.abs(A_0_tilde - K)))\n",
    "print(np.sum(np.abs(A_0 - K)))"
   ]
  },
  {
   "cell_type": "code",
   "execution_count": null,
   "metadata": {},
   "outputs": [
    {
     "name": "stdout",
     "output_type": "stream",
     "text": [
      "[-0.90695664 -0.9061085  -0.9061085  -0.90831032 -0.90831032 -0.89960583\n",
      " -0.89960583 -0.87975936 -0.87975936 -0.68456738 -0.68456738 -0.85429498\n",
      " -0.85429498 -0.82783275 -0.82783275  1.00729653  0.98866253  0.98866253\n",
      "  0.97146065  0.97146065  0.9633386   0.9633386  -0.80997479 -0.80997479\n",
      "  0.95332996  0.95332996  0.94387492  0.94387492  0.90741701  0.90741701\n",
      "  0.87630292  0.87630292 -0.79114127 -0.79114127  0.86671186  0.86671186\n",
      "  0.81925671  0.81925671  0.79286089  0.79286089 -0.73385791 -0.73385791\n",
      "  0.75790807  0.75790807 -0.6825464  -0.6825464   0.71031003  0.71031003\n",
      " -0.63151181 -0.63151181  0.67055647  0.67055647 -0.57767954 -0.57767954\n",
      "  0.6350265   0.6350265  -0.52037978 -0.52037978 -0.03635633  0.57532405\n",
      "  0.57532405 -0.46046767 -0.46046767  0.52320594  0.52320594 -0.39795938\n",
      " -0.39795938 -0.33416838 -0.33416838  0.46361871  0.46361871 -0.27172124\n",
      " -0.27172124 -0.20876279 -0.20876279  0.4039742   0.4039742  -0.14509848\n",
      " -0.14509848 -0.0825645  -0.0825645   0.33954574  0.33954574  0.15257017\n",
      "  0.15257017  0.0844385   0.0844385  -0.01318731 -0.01318731  0.21106325\n",
      "  0.21106325  0.21521499  0.21521499  0.27983281  0.27983281  0.02323056\n",
      "  0.02323056 -0.62187423 -0.62187423]\n"
     ]
    }
   ],
   "source": [
    "eigvecs = np.load('./k_mat_relocate/ball_eigvecs.npy')\n",
    "# print(eigvecs)\n",
    "np.save('./k_mat_relocate/ball_eigvecs_first_episode.npy', eigvecs[0])\n",
    "\n",
    "eigvals = np.load('./k_mat_relocate/ball_eigvals.npy')\n",
    "print(eigvals[0])\n",
    "np.save('./k_mat_relocate/ball_eigvals_first_episode.npy', eigvals[0])\n",
    "\n",
    "A = np.load('./k_mat_relocate/ball_K.npy')\n",
    "# print(A)\n",
    "np.save('./k_mat_relocate/ball_K_first_episode.npy', A[0])"
   ]
  },
  {
   "cell_type": "code",
   "execution_count": 16,
   "metadata": {},
   "outputs": [
    {
     "name": "stdout",
     "output_type": "stream",
     "text": [
      "(191, 759, 759) (191, 99) (191, 759, 99)\n"
     ]
    }
   ],
   "source": [
    "# reconstructed_data = np.dot(*stitch(nodes, i))\n",
    "\n",
    "'''Generate new koopman matrices using DMD for each episode. Also store individual eigenvectors (modes) and eigenvalues'''\n",
    "\n",
    "# B = np.zeros((ball_trajectories.shape[0], ball_trajectories.shape[1], ball_trajectories.shape[1]))\n",
    "# mr_eigvals = np.zeros((ball_trajectories.shape[0], ball_trajectories.shape[2] - 1))\n",
    "# mr_eigvecs = np.zeros((ball_trajectories.shape[0], ball_trajectories.shape[1], ball_trajectories.shape[2] - 1))\n",
    "# mr_node_list = []\n",
    "\n",
    "# for i in range(B.shape[0]):\n",
    "#     D = ball_trajectories[i]\n",
    "\n",
    "#     nodes = mrdmd(D)\n",
    "#     mr_node_list.append(nodes)\n",
    "#     # D_mrdmd = np.array([np.dot(*stitch(nodes, i)) for i in range(3)])\n",
    "#     # B[i] = np.sum(D_mrdmd, axis = 0)\n",
    "\n",
    "#     # eigvals, eigvecs = linalg.eig(B[i])\n",
    "#     # print(eigvals, eigvecs)\n",
    "\n",
    "# mr_node_list = np.array(mr_node_list)\n",
    "# print(B.shape, mr_eigvals.shape, mr_eigvecs.shape)"
   ]
  },
  {
   "cell_type": "code",
   "execution_count": 25,
   "metadata": {},
   "outputs": [
    {
     "name": "stdout",
     "output_type": "stream",
     "text": [
      "(7,)\n",
      "128699.4496664777\n",
      "128730.74651994009\n",
      "597.5184205021764\n"
     ]
    }
   ],
   "source": [
    "# first_ep_nodes = mr_node_list[0]\n",
    "# sum_tmp_K = np.zeros(K.shape)\n",
    "# sum_tmp_K_real = np.zeros(K.shape)\n",
    "\n",
    "# print(first_ep_nodes.shape)\n",
    "# for node in first_ep_nodes:\n",
    "#     phi, mu = mr_node_list[0, 3].Phi, mr_node_list[0, 3].mu\n",
    "#     sum_tmp_K += (phi @ np.diag(mu) @ linalg.pinv(phi)).real\n",
    "#     sum_tmp_K_real += (phi.real @ np.diag(mu.real) @ linalg.pinv(phi).real)\n",
    "\n",
    "# print(np.sum(np.abs(sum_tmp_K - K)))\n",
    "# print(np.sum(np.abs(sum_tmp_K_real - K)))\n",
    "# print(np.sum(np.abs(sum_tmp_K - sum_tmp_K_real)))"
   ]
  }
 ],
 "metadata": {
  "kernelspec": {
   "display_name": "mjrl-env",
   "language": "python",
   "name": "python3"
  },
  "language_info": {
   "codemirror_mode": {
    "name": "ipython",
    "version": 3
   },
   "file_extension": ".py",
   "mimetype": "text/x-python",
   "name": "python",
   "nbconvert_exporter": "python",
   "pygments_lexer": "ipython3",
   "version": "3.7.16"
  }
 },
 "nbformat": 4,
 "nbformat_minor": 2
}
